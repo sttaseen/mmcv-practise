{
 "cells": [
  {
   "cell_type": "markdown",
   "id": "4fd23220",
   "metadata": {},
   "source": [
    "# Registry\n",
    "\n",
    "Information about the source [code](https://github.com/open-mmlab/mmcv/blob/master/mmcv/utils/registry.py) can be found in the [documentation](https://mmcv.readthedocs.io/en/latest/understand_mmcv/registry.html)."
   ]
  },
  {
   "cell_type": "markdown",
   "id": "17c12806",
   "metadata": {},
   "source": [
    "## Imports"
   ]
  },
  {
   "cell_type": "code",
   "execution_count": 4,
   "id": "4701194e",
   "metadata": {},
   "outputs": [],
   "source": [
    "import os\n",
    "from mmcv.utils import Registry"
   ]
  },
  {
   "cell_type": "markdown",
   "id": "b5bb0d68",
   "metadata": {},
   "source": [
    "## Create a registry"
   ]
  },
  {
   "cell_type": "markdown",
   "id": "7a57ec95",
   "metadata": {},
   "source": [
    "We first create a directory as a package called converters."
   ]
  },
  {
   "cell_type": "code",
   "execution_count": 2,
   "id": "895c84e3",
   "metadata": {},
   "outputs": [
    {
     "name": "stdout",
     "output_type": "stream",
     "text": [
      "converters\n",
      "notes.ipynb\n"
     ]
    },
    {
     "data": {
      "text/plain": [
       "'/home/sttaseen/Desktop/mmcv-practise/understand_mmcv/registry'"
      ]
     },
     "execution_count": 2,
     "metadata": {},
     "output_type": "execute_result"
    }
   ],
   "source": [
    "# Create a package called converters\n",
    "if not os.path.exists('converters'):\n",
    "    os.mkdir('converters')\n",
    "\n",
    "# Go inside the package and create a builder.py file\n",
    "os.chdir('./converters')\n",
    "os.system('touch builder.py')\n",
    "os.chdir('..')\n",
    "os.system('ls')\n",
    "os.getcwd()"
   ]
  },
  {
   "cell_type": "code",
   "execution_count": null,
   "id": "c5c638c4",
   "metadata": {},
   "outputs": [],
   "source": [
    "# Contents of builder.py\n",
    "from mmcv.utils import Registry\n",
    "# Create a registry for converters\n",
    "CONVERTERS = Registry('converters')"
   ]
  },
  {
   "cell_type": "markdown",
   "id": "7f8a2474",
   "metadata": {},
   "source": [
    "Now, we can create different converters that is class or function in the package. For example ```Converter1``` in ```converters/converter.py``` and ```Converter2``` in ```converters/converter2.py```."
   ]
  },
  {
   "cell_type": "code",
   "execution_count": 3,
   "id": "88100b64",
   "metadata": {},
   "outputs": [],
   "source": [
    "# Contents of converter1.py\n",
    "\n"
   ]
  }
 ],
 "metadata": {
  "kernelspec": {
   "display_name": "ray_of_hope",
   "language": "python",
   "name": "ray_of_hope"
  },
  "language_info": {
   "codemirror_mode": {
    "name": "ipython",
    "version": 3
   },
   "file_extension": ".py",
   "mimetype": "text/x-python",
   "name": "python",
   "nbconvert_exporter": "python",
   "pygments_lexer": "ipython3",
   "version": "3.8.15"
  }
 },
 "nbformat": 4,
 "nbformat_minor": 5
}
