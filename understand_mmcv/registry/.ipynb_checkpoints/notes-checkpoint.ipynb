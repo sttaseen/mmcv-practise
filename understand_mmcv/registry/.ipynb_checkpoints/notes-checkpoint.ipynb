{
 "cells": [
  {
   "cell_type": "markdown",
   "id": "4fd23220",
   "metadata": {},
   "source": [
    "# Registry\n",
    "\n",
    "Information about the source [code](https://github.com/open-mmlab/mmcv/blob/master/mmcv/utils/registry.py) can be found in the [documentation](https://mmcv.readthedocs.io/en/latest/understand_mmcv/registry.html)."
   ]
  },
  {
   "cell_type": "markdown",
   "id": "17c12806",
   "metadata": {},
   "source": [
    "## Imports"
   ]
  },
  {
   "cell_type": "code",
   "execution_count": 2,
   "id": "4701194e",
   "metadata": {},
   "outputs": [],
   "source": [
    "import os\n",
    "from mmcv.utils import Registry"
   ]
  },
  {
   "cell_type": "markdown",
   "id": "b5bb0d68",
   "metadata": {},
   "source": [
    "## Create a registry"
   ]
  },
  {
   "cell_type": "markdown",
   "id": "7a57ec95",
   "metadata": {},
   "source": [
    "We first create a directory as a package called resnet. Inside the package, we have:"
   ]
  },
  {
   "cell_type": "code",
   "execution_count": null,
   "id": "c5c638c4",
   "metadata": {},
   "outputs": [],
   "source": [
    "# Contents of builder.py\n",
    "from mmcv.utils import Registry\n",
    "# Create a Registry for models\n",
    "MODELS = Registry('models')"
   ]
  },
  {
   "cell_type": "markdown",
   "id": "7f8a2474",
   "metadata": {},
   "source": [
    "Now, we can create different converters that is class or function in the package. For example ```Converter1``` in ```converters/converter.py``` and ```Converter2``` in ```converters/converter2.py```."
   ]
  },
  {
   "cell_type": "code",
   "execution_count": null,
   "id": "88100b64",
   "metadata": {},
   "outputs": [],
   "source": [
    "# Contents of resnet.py\n",
    "from builder import MODELS\n",
    "\n",
    "# User .register_module() to store it under MODELS\n",
    "@MODELS.register_module()\n",
    "class Resnet():\n",
    "    pass\n",
    "\n",
    "@MODELS.register_module()\n",
    "def foo(a):\n",
    "    print(a)"
   ]
  },
  {
   "cell_type": "code",
   "execution_count": null,
   "id": "fdabe1c7",
   "metadata": {},
   "outputs": [],
   "source": [
    "# Contents of main.py\n",
    "from resnet import MODELS\n",
    "\n",
    "# Now, we can use <Registry>.build() with a dictionary to create new objects or functions\n",
    "resnet = MODELS.build(dict(type='Resnet'))\n",
    "MODELS.build(dict(type='foo', a=1))"
   ]
  }
 ],
 "metadata": {
  "kernelspec": {
   "display_name": "ray_of_hope",
   "language": "python",
   "name": "ray_of_hope"
  },
  "language_info": {
   "codemirror_mode": {
    "name": "ipython",
    "version": 3
   },
   "file_extension": ".py",
   "mimetype": "text/x-python",
   "name": "python",
   "nbconvert_exporter": "python",
   "pygments_lexer": "ipython3",
   "version": "3.9.13"
  }
 },
 "nbformat": 4,
 "nbformat_minor": 5
}
