{
 "cells": [
  {
   "cell_type": "markdown",
   "id": "4fd23220",
   "metadata": {},
   "source": [
    "# Registry\n",
    "\n",
    "Information about the source [code](https://github.com/open-mmlab/mmcv/blob/master/mmcv/utils/registry.py) can be found in the [documentation](https://mmcv.readthedocs.io/en/latest/understand_mmcv/registry.html)."
   ]
  },
  {
   "cell_type": "markdown",
   "id": "17c12806",
   "metadata": {},
   "source": [
    "## Imports"
   ]
  },
  {
   "cell_type": "code",
   "execution_count": 2,
   "id": "4701194e",
   "metadata": {},
   "outputs": [],
   "source": [
    "import os\n",
    "from mmcv.utils import Registry"
   ]
  },
  {
   "cell_type": "markdown",
   "id": "b5bb0d68",
   "metadata": {},
   "source": [
    "## Create a registry"
   ]
  },
  {
   "cell_type": "markdown",
   "id": "7a57ec95",
   "metadata": {},
   "source": [
    "We first create a directory as a package called converters."
   ]
  },
  {
   "cell_type": "code",
   "execution_count": 3,
   "id": "895c84e3",
   "metadata": {},
   "outputs": [
    {
     "name": "stdout",
     "output_type": "stream",
     "text": [
      "converters\n",
      "notes.ipynb\n"
     ]
    },
    {
     "data": {
      "text/plain": [
       "'/home/sttaseen/Desktop/mmcv-practise/understand_mmcv/registry'"
      ]
     },
     "execution_count": 3,
     "metadata": {},
     "output_type": "execute_result"
    }
   ],
   "source": [
    "# Create a package called converters\n",
    "if not os.path.exists('converters'):\n",
    "    os.mkdir('converters')\n",
    "\n",
    "# Go inside the package and create a builder.py file\n",
    "os.chdir('./converters')\n",
    "os.system('touch builder.py')\n",
    "os.chdir('..')\n",
    "os.system('ls')\n",
    "os.getcwd()"
   ]
  },
  {
   "cell_type": "code",
   "execution_count": null,
   "id": "c5c638c4",
   "metadata": {},
   "outputs": [],
   "source": [
    "# Contents of builder.py\n",
    "from mmcv.utils import Registry\n",
    "# Create a registry for converters\n",
    "CONVERTERS = Registry('converters')"
   ]
  },
  {
   "cell_type": "markdown",
   "id": "7f8a2474",
   "metadata": {},
   "source": [
    "Now, we can create different converters that is class or function in the package. For example ```Converter1``` in ```converters/converter.py``` and ```Converter2``` in ```converters/converter2.py```."
   ]
  },
  {
   "cell_type": "code",
   "execution_count": null,
   "id": "88100b64",
   "metadata": {},
   "outputs": [],
   "source": [
    "# Contents of converter1.py\n",
    "from .builder import CONVERTERS\n",
    "\n",
    "# Use the registry to manage the module\n",
    "@CONVERTERS.register_module()\n",
    "class Converter1(object):\n",
    "    def __init__(self, a, b):\n",
    "        self.a = a\n",
    "        self.b = b"
   ]
  },
  {
   "cell_type": "code",
   "execution_count": null,
   "id": "fdabe1c7",
   "metadata": {},
   "outputs": [],
   "source": [
    "# Contents of coverter2.py\n",
    "from .builder import CONVERTERS\n",
    "from .converter1 import Converter1\n",
    "\n",
    "\n",
    "@CONVERTERS.register_module()\n",
    "def converter2(a, b):\n",
    "    return Converter1(a, b)"
   ]
  },
  {
   "cell_type": "markdown",
   "id": "7453d62f",
   "metadata": {},
   "source": [
    "## Creating configs from registries\n",
    "If the modules are set up properly, then they can be used through config as follows:"
   ]
  },
  {
   "cell_type": "code",
   "execution_count": 26,
   "id": "10531972",
   "metadata": {},
   "outputs": [
    {
     "ename": "KeyError",
     "evalue": "'Converter1 is not in the converters registry'",
     "output_type": "error",
     "traceback": [
      "\u001b[0;31m---------------------------------------------------------------------------\u001b[0m",
      "\u001b[0;31mKeyError\u001b[0m                                  Traceback (most recent call last)",
      "Cell \u001b[0;32mIn [26], line 6\u001b[0m\n\u001b[1;32m      4\u001b[0m converter1_cfg \u001b[38;5;241m=\u001b[39m \u001b[38;5;28mdict\u001b[39m(\u001b[38;5;28mtype\u001b[39m\u001b[38;5;241m=\u001b[39m\u001b[38;5;124m'\u001b[39m\u001b[38;5;124mConverter1\u001b[39m\u001b[38;5;124m'\u001b[39m, a\u001b[38;5;241m=\u001b[39ma_value, b\u001b[38;5;241m=\u001b[39mb_value)\n\u001b[1;32m      5\u001b[0m converter2_cfg \u001b[38;5;241m=\u001b[39m \u001b[38;5;28mdict\u001b[39m(\u001b[38;5;28mtype\u001b[39m\u001b[38;5;241m=\u001b[39m\u001b[38;5;124m'\u001b[39m\u001b[38;5;124mconverter2\u001b[39m\u001b[38;5;124m'\u001b[39m, a\u001b[38;5;241m=\u001b[39ma_value, b\u001b[38;5;241m=\u001b[39mb_value)\n\u001b[0;32m----> 6\u001b[0m converter1 \u001b[38;5;241m=\u001b[39m \u001b[43mCONVERTERS\u001b[49m\u001b[38;5;241;43m.\u001b[39;49m\u001b[43mbuild\u001b[49m\u001b[43m(\u001b[49m\u001b[43mconverter1_cfg\u001b[49m\u001b[43m)\u001b[49m\n\u001b[1;32m      7\u001b[0m result \u001b[38;5;241m=\u001b[39m CONVERTERS\u001b[38;5;241m.\u001b[39mbuild(converter2_cfg)\n",
      "File \u001b[0;32m~/anaconda3/envs/ray_of_hope/lib/python3.8/site-packages/mmcv/utils/registry.py:237\u001b[0m, in \u001b[0;36mRegistry.build\u001b[0;34m(self, *args, **kwargs)\u001b[0m\n\u001b[1;32m    236\u001b[0m \u001b[38;5;28;01mdef\u001b[39;00m \u001b[38;5;21mbuild\u001b[39m(\u001b[38;5;28mself\u001b[39m, \u001b[38;5;241m*\u001b[39margs, \u001b[38;5;241m*\u001b[39m\u001b[38;5;241m*\u001b[39mkwargs):\n\u001b[0;32m--> 237\u001b[0m     \u001b[38;5;28;01mreturn\u001b[39;00m \u001b[38;5;28;43mself\u001b[39;49m\u001b[38;5;241;43m.\u001b[39;49m\u001b[43mbuild_func\u001b[49m\u001b[43m(\u001b[49m\u001b[38;5;241;43m*\u001b[39;49m\u001b[43margs\u001b[49m\u001b[43m,\u001b[49m\u001b[43m \u001b[49m\u001b[38;5;241;43m*\u001b[39;49m\u001b[38;5;241;43m*\u001b[39;49m\u001b[43mkwargs\u001b[49m\u001b[43m,\u001b[49m\u001b[43m \u001b[49m\u001b[43mregistry\u001b[49m\u001b[38;5;241;43m=\u001b[39;49m\u001b[38;5;28;43mself\u001b[39;49m\u001b[43m)\u001b[49m\n",
      "File \u001b[0;32m~/anaconda3/envs/ray_of_hope/lib/python3.8/site-packages/mmcv/utils/registry.py:61\u001b[0m, in \u001b[0;36mbuild_from_cfg\u001b[0;34m(cfg, registry, default_args)\u001b[0m\n\u001b[1;32m     59\u001b[0m     obj_cls \u001b[38;5;241m=\u001b[39m registry\u001b[38;5;241m.\u001b[39mget(obj_type)\n\u001b[1;32m     60\u001b[0m     \u001b[38;5;28;01mif\u001b[39;00m obj_cls \u001b[38;5;129;01mis\u001b[39;00m \u001b[38;5;28;01mNone\u001b[39;00m:\n\u001b[0;32m---> 61\u001b[0m         \u001b[38;5;28;01mraise\u001b[39;00m \u001b[38;5;167;01mKeyError\u001b[39;00m(\n\u001b[1;32m     62\u001b[0m             \u001b[38;5;124mf\u001b[39m\u001b[38;5;124m'\u001b[39m\u001b[38;5;132;01m{\u001b[39;00mobj_type\u001b[38;5;132;01m}\u001b[39;00m\u001b[38;5;124m is not in the \u001b[39m\u001b[38;5;132;01m{\u001b[39;00mregistry\u001b[38;5;241m.\u001b[39mname\u001b[38;5;132;01m}\u001b[39;00m\u001b[38;5;124m registry\u001b[39m\u001b[38;5;124m'\u001b[39m)\n\u001b[1;32m     63\u001b[0m \u001b[38;5;28;01melif\u001b[39;00m inspect\u001b[38;5;241m.\u001b[39misclass(obj_type) \u001b[38;5;129;01mor\u001b[39;00m inspect\u001b[38;5;241m.\u001b[39misfunction(obj_type):\n\u001b[1;32m     64\u001b[0m     obj_cls \u001b[38;5;241m=\u001b[39m obj_type\n",
      "\u001b[0;31mKeyError\u001b[0m: 'Converter1 is not in the converters registry'"
     ]
    }
   ],
   "source": [
    "from builder import CONVERTERS\n",
    "a_value = 3\n",
    "b_value = 4\n",
    "converter1_cfg = dict(type='Converter1', a=a_value, b=b_value)\n",
    "converter2_cfg = dict(type='converter2', a=a_value, b=b_value)\n",
    "converter1 = CONVERTERS.build(converter1_cfg)\n",
    "result = CONVERTERS.build(converter2_cfg)"
   ]
  },
  {
   "cell_type": "code",
   "execution_count": 29,
   "id": "c50e78e9",
   "metadata": {},
   "outputs": [
    {
     "data": {
      "text/plain": [
       "'/home/sttaseen/Desktop/mmcv-practise/understand_mmcv/registry/converters'"
      ]
     },
     "execution_count": 29,
     "metadata": {},
     "output_type": "execute_result"
    }
   ],
   "source": [
    "os.getcwd()"
   ]
  },
  {
   "cell_type": "code",
   "execution_count": 27,
   "id": "c6d762b7",
   "metadata": {},
   "outputs": [
    {
     "ename": "FileNotFoundError",
     "evalue": "[Errno 2] No such file or directory: ',,'",
     "output_type": "error",
     "traceback": [
      "\u001b[0;31m---------------------------------------------------------------------------\u001b[0m",
      "\u001b[0;31mFileNotFoundError\u001b[0m                         Traceback (most recent call last)",
      "Cell \u001b[0;32mIn [27], line 1\u001b[0m\n\u001b[0;32m----> 1\u001b[0m \u001b[43mos\u001b[49m\u001b[38;5;241;43m.\u001b[39;49m\u001b[43mchdir\u001b[49m\u001b[43m(\u001b[49m\u001b[38;5;124;43m'\u001b[39;49m\u001b[38;5;124;43m,,\u001b[39;49m\u001b[38;5;124;43m'\u001b[39;49m\u001b[43m)\u001b[49m\n",
      "\u001b[0;31mFileNotFoundError\u001b[0m: [Errno 2] No such file or directory: ',,'"
     ]
    }
   ],
   "source": [
    "os.chdir(',,')"
   ]
  },
  {
   "cell_type": "code",
   "execution_count": 14,
   "id": "eb5737d9",
   "metadata": {},
   "outputs": [
    {
     "data": {
      "text/plain": [
       "'/home/sttaseen/Desktop/mmcv-practise/understand_mmcv/registry/converters'"
      ]
     },
     "execution_count": 14,
     "metadata": {},
     "output_type": "execute_result"
    }
   ],
   "source": [
    "from mmcv.utils import Config\n",
    "\n",
    "cfg = Config.fromfile('./converters/converter2.py')\n",
    "print(cfg)\n"
   ]
  }
 ],
 "metadata": {
  "kernelspec": {
   "display_name": "ray_of_hope",
   "language": "python",
   "name": "ray_of_hope"
  },
  "language_info": {
   "codemirror_mode": {
    "name": "ipython",
    "version": 3
   },
   "file_extension": ".py",
   "mimetype": "text/x-python",
   "name": "python",
   "nbconvert_exporter": "python",
   "pygments_lexer": "ipython3",
   "version": "3.8.15"
  }
 },
 "nbformat": 4,
 "nbformat_minor": 5
}
