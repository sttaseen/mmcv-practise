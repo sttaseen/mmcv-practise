{
 "cells": [
  {
   "cell_type": "markdown",
   "id": "8c546bd6",
   "metadata": {},
   "source": [
    "## Import mmcv"
   ]
  },
  {
   "cell_type": "code",
   "execution_count": 3,
   "id": "683c8f35",
   "metadata": {
    "scrolled": true
   },
   "outputs": [],
   "source": [
    "from mmcv import Config"
   ]
  },
  {
   "cell_type": "markdown",
   "id": "0cee6151",
   "metadata": {},
   "source": [
    "## Load and use the config file\n",
    "\n",
    "Source code for the class, [Config](https://github.com/open-mmlab/mmcv/blob/master/mmcv/utils/config.py) has details about its implementations."
   ]
  },
  {
   "cell_type": "code",
   "execution_count": 22,
   "id": "bf26234f",
   "metadata": {},
   "outputs": [],
   "source": [
    "# Contents of the test_config_loading.py\n",
    "a = 1\n",
    "b = dict(b1=[0, 1, 2, 3], b2=None)\n",
    "c = (1, 2)\n",
    "d = 'hello'"
   ]
  },
  {
   "cell_type": "code",
   "execution_count": 21,
   "id": "d5a2b480",
   "metadata": {},
   "outputs": [
    {
     "data": {
      "text/plain": [
       "Config (path: test_config_loading.py): {'a': 1, 'b': {'b1': [0, 1, 2, 3], 'b2': None}, 'c': (1, 2), 'd': 'hello'}"
      ]
     },
     "execution_count": 21,
     "metadata": {},
     "output_type": "execute_result"
    }
   ],
   "source": [
    "# Use Config.fromfile() to load the config file\n",
    "cfg = Config.fromfile('test_config_loading.py')\n",
    "cfg"
   ]
  },
  {
   "cell_type": "code",
   "execution_count": 10,
   "id": "d57bb3c1",
   "metadata": {},
   "outputs": [
    {
     "data": {
      "text/plain": [
       "1"
      ]
     },
     "execution_count": 10,
     "metadata": {},
     "output_type": "execute_result"
    }
   ],
   "source": [
    "cfg.a"
   ]
  },
  {
   "cell_type": "code",
   "execution_count": 11,
   "id": "f0ed2b9b",
   "metadata": {},
   "outputs": [
    {
     "data": {
      "text/plain": [
       "{'b1': [0, 1, 2, 3], 'b2': None}"
      ]
     },
     "execution_count": 11,
     "metadata": {},
     "output_type": "execute_result"
    }
   ],
   "source": [
    "cfg.b"
   ]
  },
  {
   "cell_type": "markdown",
   "id": "d3c16eda",
   "metadata": {},
   "source": [
    "## Config.dump()\n",
    "\n",
    "Config.dump() can be used to dump the config parameters into a file to save them or just to print them out."
   ]
  },
  {
   "cell_type": "code",
   "execution_count": 13,
   "id": "3e846f02",
   "metadata": {
    "scrolled": true
   },
   "outputs": [
    {
     "data": {
      "text/plain": [
       "<bound method Config.dump of Config (path: test.py): {'a': 1, 'b': {'b1': [0, 1, 2, 3], 'b2': None}, 'c': (1, 2), 'd': 'hello'}>"
      ]
     },
     "execution_count": 13,
     "metadata": {},
     "output_type": "execute_result"
    }
   ],
   "source": [
    "cfg.dump"
   ]
  },
  {
   "cell_type": "markdown",
   "id": "c7bcf579",
   "metadata": {},
   "source": [
    "Saving to a file:"
   ]
  },
  {
   "cell_type": "code",
   "execution_count": 14,
   "id": "8479a53d",
   "metadata": {},
   "outputs": [],
   "source": [
    "dump_file = 'dump.py'\n",
    "cfg.dump(dump_file)"
   ]
  },
  {
   "cell_type": "markdown",
   "id": "41c49c83",
   "metadata": {},
   "source": [
    "Now, dump.py should be the same test.py"
   ]
  },
  {
   "cell_type": "markdown",
   "id": "e93e682e",
   "metadata": {},
   "source": [
    "## Config.merge_from_dict()"
   ]
  },
  {
   "cell_type": "markdown",
   "id": "0ff743df",
   "metadata": {},
   "source": [
    "This function helps to merge a dictionary to a config object."
   ]
  },
  {
   "cell_type": "code",
   "execution_count": 18,
   "id": "b9588c2a",
   "metadata": {},
   "outputs": [],
   "source": [
    "value_dict = {'is_dead': True}"
   ]
  },
  {
   "cell_type": "code",
   "execution_count": 19,
   "id": "af36d4dd",
   "metadata": {},
   "outputs": [],
   "source": [
    "cfg.merge_from_dict(value_dict)"
   ]
  },
  {
   "cell_type": "code",
   "execution_count": 20,
   "id": "2c810686",
   "metadata": {
    "scrolled": true
   },
   "outputs": [
    {
     "data": {
      "text/plain": [
       "Config (path: test.py): {'a': 1, 'b': {'b1': [0, 1, 2, 3], 'b2': None}, 'c': (1, 2), 'd': 'hello', 'is_dead': True}"
      ]
     },
     "execution_count": 20,
     "metadata": {},
     "output_type": "execute_result"
    }
   ],
   "source": [
    "cfg"
   ]
  },
  {
   "cell_type": "markdown",
   "id": "61475fa0",
   "metadata": {},
   "source": [
    "## Predefined variables\n",
    "The following can be used in the config files to get information about the config file:\n",
    "- ```{{ fileDirname }}``` - the current opened file’s dirname, e.g. /home/your-username/your-project/folder\n",
    "- ```{{ fileBasename }}``` - the current opened file’s basename, e.g. file.ext\n",
    "- ```{{ fileBasenameNoExtension }}``` - the current opened file’s basename with no file extension, e.g. file\n",
    "- ```{{ fileExtname }}``` - the current opened file’s extension, e.g. .ext"
   ]
  },
  {
   "cell_type": "code",
   "execution_count": 26,
   "id": "ce6cb79d",
   "metadata": {
    "scrolled": true
   },
   "outputs": [
    {
     "data": {
      "text/plain": [
       "Config (path: config_file_details.py): {'file_name': './/home/sttaseen/Desktop/mmcv-practise/understand_mmcv/config'}"
      ]
     },
     "execution_count": 26,
     "metadata": {},
     "output_type": "execute_result"
    }
   ],
   "source": [
    "# Contents of the config_file_details.py\n",
    "file_dir = '{{fileDirname}}'\n",
    "file_base = '{{fileBasename}}'\n",
    "file_name_no_extension = '{{fileBasenameNoExtension}}'\n",
    "file_extension = '{{fileExtname}}'\n",
    "mumbo_jumbo = 'The config file is here {{fileDirname}}/{{fileBasename}}'"
   ]
  },
  {
   "cell_type": "code",
   "execution_count": 39,
   "id": "c5e5299e",
   "metadata": {
    "scrolled": true
   },
   "outputs": [
    {
     "data": {
      "text/plain": [
       "Config (path: config_file_details.py): {'file_dir': '/home/sttaseen/Desktop/mmcv-practise/understand_mmcv/config', 'file_base': 'config_file_details.py', 'file_name_no_extension': 'config_file_details', 'file_extension': '.py', 'mumbo_jumbo': 'The config file is here /home/sttaseen/Desktop/mmcv-practise/understand_mmcv/config/config_file_details.py'}"
      ]
     },
     "execution_count": 39,
     "metadata": {},
     "output_type": "execute_result"
    }
   ],
   "source": [
    "file_config = Config.fromfile('config_file_details.py')\n",
    "file_config"
   ]
  },
  {
   "cell_type": "markdown",
   "id": "37c88f09",
   "metadata": {},
   "source": [
    "## Inheritance of config files"
   ]
  },
  {
   "cell_type": "markdown",
   "id": "78413ff9",
   "metadata": {},
   "source": [
    "Use ```_base_``` to define the parent of the config file that it will inherit from."
   ]
  },
  {
   "cell_type": "code",
   "execution_count": null,
   "id": "4807147e",
   "metadata": {},
   "outputs": [],
   "source": [
    "# Contents of config_a.py\n",
    "a = 1\n",
    "b = 'rude'\n",
    "c = (1, 2)\n",
    "\n",
    "# Contents of config_b.py\n",
    "_base_ = './config_a.py'\n",
    "d = 'Did it inherit from a?'"
   ]
  },
  {
   "cell_type": "markdown",
   "id": "cf031d71",
   "metadata": {},
   "source": [
    "### Without ovelapped keys"
   ]
  },
  {
   "cell_type": "markdown",
   "id": "ec59b986",
   "metadata": {},
   "source": [
    "config_b will inherit from config_a."
   ]
  },
  {
   "cell_type": "code",
   "execution_count": 42,
   "id": "46369c40",
   "metadata": {},
   "outputs": [
    {
     "data": {
      "text/plain": [
       "Config (path: ./config_b.py): {'a': 1, 'b': 'rude', 'c': (1, 2), 'd': 'Did it inherit from a?'}"
      ]
     },
     "execution_count": 42,
     "metadata": {},
     "output_type": "execute_result"
    }
   ],
   "source": [
    "config_b = Config.fromfile('./config_b.py')\n",
    "config_b"
   ]
  },
  {
   "cell_type": "markdown",
   "id": "2e73a42a",
   "metadata": {},
   "source": [
    "### With overlapped keys"
   ]
  },
  {
   "cell_type": "markdown",
   "id": "b702d536",
   "metadata": {},
   "source": [
    "Base configs can't contain duplicate keys."
   ]
  },
  {
   "cell_type": "code",
   "execution_count": null,
   "id": "320f9c1d",
   "metadata": {},
   "outputs": [],
   "source": [
    "# config_ac.py contents\n",
    "_base_ = ['config_a.py', 'config_c.py']"
   ]
  },
  {
   "cell_type": "code",
   "execution_count": 43,
   "id": "81d96985",
   "metadata": {
    "scrolled": false
   },
   "outputs": [
    {
     "ename": "KeyError",
     "evalue": "\"Duplicate key is not allowed among bases. Duplicate keys: {'b', 'c'}\"",
     "output_type": "error",
     "traceback": [
      "\u001b[0;31m---------------------------------------------------------------------------\u001b[0m",
      "\u001b[0;31mKeyError\u001b[0m                                  Traceback (most recent call last)",
      "Cell \u001b[0;32mIn [43], line 1\u001b[0m\n\u001b[0;32m----> 1\u001b[0m config_ac \u001b[38;5;241m=\u001b[39m \u001b[43mConfig\u001b[49m\u001b[38;5;241;43m.\u001b[39;49m\u001b[43mfromfile\u001b[49m\u001b[43m(\u001b[49m\u001b[38;5;124;43m'\u001b[39;49m\u001b[38;5;124;43m./config_ac.py\u001b[39;49m\u001b[38;5;124;43m'\u001b[39;49m\u001b[43m)\u001b[49m\n",
      "File \u001b[0;32m~/anaconda3/envs/ray_of_hope/lib/python3.8/site-packages/mmcv/utils/config.py:340\u001b[0m, in \u001b[0;36mConfig.fromfile\u001b[0;34m(filename, use_predefined_variables, import_custom_modules)\u001b[0m\n\u001b[1;32m    338\u001b[0m \u001b[38;5;28;01mif\u001b[39;00m \u001b[38;5;28misinstance\u001b[39m(filename, Path):\n\u001b[1;32m    339\u001b[0m     filename \u001b[38;5;241m=\u001b[39m \u001b[38;5;28mstr\u001b[39m(filename)\n\u001b[0;32m--> 340\u001b[0m cfg_dict, cfg_text \u001b[38;5;241m=\u001b[39m \u001b[43mConfig\u001b[49m\u001b[38;5;241;43m.\u001b[39;49m\u001b[43m_file2dict\u001b[49m\u001b[43m(\u001b[49m\u001b[43mfilename\u001b[49m\u001b[43m,\u001b[49m\n\u001b[1;32m    341\u001b[0m \u001b[43m                                       \u001b[49m\u001b[43muse_predefined_variables\u001b[49m\u001b[43m)\u001b[49m\n\u001b[1;32m    342\u001b[0m \u001b[38;5;28;01mif\u001b[39;00m import_custom_modules \u001b[38;5;129;01mand\u001b[39;00m cfg_dict\u001b[38;5;241m.\u001b[39mget(\u001b[38;5;124m'\u001b[39m\u001b[38;5;124mcustom_imports\u001b[39m\u001b[38;5;124m'\u001b[39m, \u001b[38;5;28;01mNone\u001b[39;00m):\n\u001b[1;32m    343\u001b[0m     import_modules_from_strings(\u001b[38;5;241m*\u001b[39m\u001b[38;5;241m*\u001b[39mcfg_dict[\u001b[38;5;124m'\u001b[39m\u001b[38;5;124mcustom_imports\u001b[39m\u001b[38;5;124m'\u001b[39m])\n",
      "File \u001b[0;32m~/anaconda3/envs/ray_of_hope/lib/python3.8/site-packages/mmcv/utils/config.py:260\u001b[0m, in \u001b[0;36mConfig._file2dict\u001b[0;34m(filename, use_predefined_variables)\u001b[0m\n\u001b[1;32m    258\u001b[0m     duplicate_keys \u001b[38;5;241m=\u001b[39m base_cfg_dict\u001b[38;5;241m.\u001b[39mkeys() \u001b[38;5;241m&\u001b[39m c\u001b[38;5;241m.\u001b[39mkeys()\n\u001b[1;32m    259\u001b[0m     \u001b[38;5;28;01mif\u001b[39;00m \u001b[38;5;28mlen\u001b[39m(duplicate_keys) \u001b[38;5;241m>\u001b[39m \u001b[38;5;241m0\u001b[39m:\n\u001b[0;32m--> 260\u001b[0m         \u001b[38;5;28;01mraise\u001b[39;00m \u001b[38;5;167;01mKeyError\u001b[39;00m(\u001b[38;5;124m'\u001b[39m\u001b[38;5;124mDuplicate key is not allowed among bases. \u001b[39m\u001b[38;5;124m'\u001b[39m\n\u001b[1;32m    261\u001b[0m                        \u001b[38;5;124mf\u001b[39m\u001b[38;5;124m'\u001b[39m\u001b[38;5;124mDuplicate keys: \u001b[39m\u001b[38;5;132;01m{\u001b[39;00mduplicate_keys\u001b[38;5;132;01m}\u001b[39;00m\u001b[38;5;124m'\u001b[39m)\n\u001b[1;32m    262\u001b[0m     base_cfg_dict\u001b[38;5;241m.\u001b[39mupdate(c)\n\u001b[1;32m    264\u001b[0m \u001b[38;5;66;03m# Substitute base variables from strings to their actual values\u001b[39;00m\n",
      "\u001b[0;31mKeyError\u001b[0m: \"Duplicate key is not allowed among bases. Duplicate keys: {'b', 'c'}\""
     ]
    }
   ],
   "source": [
    "config_ac = Config.fromfile('./config_ac.py')"
   ]
  },
  {
   "cell_type": "code",
   "execution_count": null,
   "id": "0ef96e83",
   "metadata": {},
   "outputs": [],
   "source": []
  }
 ],
 "metadata": {
  "kernelspec": {
   "display_name": "ray_of_hope",
   "language": "python",
   "name": "ray_of_hope"
  },
  "language_info": {
   "codemirror_mode": {
    "name": "ipython",
    "version": 3
   },
   "file_extension": ".py",
   "mimetype": "text/x-python",
   "name": "python",
   "nbconvert_exporter": "python",
   "pygments_lexer": "ipython3",
   "version": "3.8.15"
  }
 },
 "nbformat": 4,
 "nbformat_minor": 5
}
